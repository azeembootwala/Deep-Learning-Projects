{
 "cells": [
  {
   "cell_type": "markdown",
   "metadata": {},
   "source": [
    "# Balance Scale Data Set\n",
    " Data Set Information:\n",
    "\tThis data set was generated to model psychological\n",
    "\texperimental results.  Each example is classified as having the\n",
    "\tbalance scale tip to the right, tip to the left, or be\n",
    "\tbalanced.  The attributes are the left weight, the left\n",
    "\tdistance, the right weight, and the right distance.  The\n",
    "\tcorrect way to find the class is the greater of \n",
    "\t(left-distance * left-weight) and (right-distance *\n",
    "\tright-weight).  If they are equal, it is balanced.\n",
    "\n",
    " ## Number of Instances: \n",
    " 625 (49 balanced, 288 left, 288 right)\n",
    "\n",
    " ## Number of Attributes: \n",
    " 4 (numeric) + class name = 5\n"
   ]
  },
  {
   "cell_type": "code",
   "execution_count": 72,
   "metadata": {},
   "outputs": [
    {
     "name": "stdout",
     "output_type": "stream",
     "text": [
      "The line_profiler extension is already loaded. To reload it, use:\n",
      "  %reload_ext line_profiler\n"
     ]
    }
   ],
   "source": [
    "import numpy as np\n",
    "import matplotlib.pyplot as plt\n",
    "from data_cleaning import get_data\n",
    "#import cProfile\n",
    "% load_ext line_profiler\n",
    "from numba import jit"
   ]
  },
  {
   "cell_type": "code",
   "execution_count": 73,
   "metadata": {},
   "outputs": [],
   "source": [
    "@jit\n",
    "def tar2ind(Y):\n",
    "    N = len(Y)\n",
    "    D = len(set(Y))\n",
    "    ind = np.zeros((N,D))\n",
    "    for i in range(0,N):\n",
    "        num = Y[i]\n",
    "        ind[i,num]=1\n",
    "    return ind\n",
    "\n",
    "def relu(Z):\n",
    "    return Z*(Z>0)\n",
    "\n",
    "def sigmoid(Z):\n",
    "    Z = np.exp(-Z)\n",
    "    return 1/(1+Z)\n",
    "\n",
    "def softmax(Z):\n",
    "    Z = np.exp(Z)\n",
    "    return Z/Z.sum(axis =1 ,keepdims=True)\n",
    "\n",
    "def forward(X,W1,b1,W2,b2):\n",
    "    #Z = relu(X.dot(W1)+b1)\n",
    "    Z = np.tanh(X.dot(W1)+b1)\n",
    "    out = softmax(Z.dot(W2)+b2)\n",
    "    return out,Z\n",
    "\n",
    "def cross_entropy(Y,T):\n",
    "    return -(T*np.log(Y)).sum()\n",
    "\n",
    "def classification_rate(Y,T):\n",
    "    return np.mean(Y==T)\n"
   ]
  },
  {
   "cell_type": "code",
   "execution_count": 74,
   "metadata": {
    "collapsed": true
   },
   "outputs": [],
   "source": [
    "\n",
    "def main():\n",
    "    X,Y = get_data(True) # We will first get the data\n",
    "    X_train=X[:600,:]\n",
    "    Y_train =Y[:600]     #and split the data into test and training samples\n",
    "    X_test = X[600:,:]\n",
    "    Y_test = Y[600:]\n",
    "\n",
    "    # We will first convert the target into indicator matrix\n",
    "    ind = tar2ind(Y_train)\n",
    "    N,D = X_train.shape # Initializing number of samples & Dimentionality\n",
    "    M = 30 # our hidden layer size\n",
    "    _,K = ind.shape # output layer size\n",
    "\n",
    "    #Initializing our weight matrix\n",
    "    W1 = np.random.randn(D,M)/np.sqrt(D)\n",
    "    b1 = np.random.randn(M)\n",
    "    W2 = np.random.randn(M,K)/np.sqrt(M)\n",
    "    b2 = np.random.randn(K)\n",
    "    learning_rate = 10e-5\n",
    "    cost = []\n",
    "    print(\"Training...\")\n",
    "\n",
    "    # Now that all ingredients for the soup is ready , lets start with feed forward\n",
    "    for i in range(0,10000):\n",
    "        \n",
    "\n",
    "        output,Z = forward(X_train,W1,b1,W2,b2)\n",
    "        #Performing backpropagation now\n",
    "        W2 = W2 + learning_rate * (Z.T.dot(ind-output))\n",
    "        b2 = b2 + learning_rate *((ind-output).sum(axis = 0))\n",
    "        #dz = (ind-output).dot(W2.T)*Z*(1-Z)\n",
    "        dz = (ind-output).dot(W2.T)*(1-Z*Z) #For tanh\n",
    "        #dz = (ind-output).dot(W2.T)*(Z>0)#For relu\n",
    "        W1 = W1 + learning_rate * (X_train.T.dot(dz))\n",
    "        b1 = b1+ learning_rate*(dz.sum(axis = 0 ))\n",
    "        c = cross_entropy(output,ind)\n",
    "        cost.append(c)\n",
    "\n",
    "        if i%500 ==0:\n",
    "\n",
    "\n",
    "\n",
    "            Y_pred = np.argmax(output,axis=1)\n",
    "\n",
    "            r = classification_rate(Y_pred,Y_train)\n",
    "            print(\"iteration:\",i,\"cost\",c,\"classification_rate:\",r)\n",
    "    plt.plot(cost)\n",
    "    plt.ylabel(\"cost\")\n",
    "    plt.xlabel(\"iterations\")\n",
    "    plt.show()\n",
    "    Y_test_mat,_ = forward(X_test,W1,b1,W2,b2)\n",
    "    Y_test_pred = np.argmax(Y_test_mat,axis=1)\n",
    "    result = classification_rate(Y_test_pred,Y_test)\n",
    "    print(\"Classification rate of test data is : \",result)"
   ]
  },
  {
   "cell_type": "code",
   "execution_count": 75,
   "metadata": {},
   "outputs": [
    {
     "name": "stdout",
     "output_type": "stream",
     "text": [
      "Training...\n",
      "iteration: 0 cost 710.879718301 classification_rate: 0.27\n",
      "iteration: 500 cost 159.973198366 classification_rate: 0.91\n",
      "iteration: 1000 cost 112.162340946 classification_rate: 0.965\n",
      "iteration: 1500 cost 86.2588535729 classification_rate: 0.973333333333\n",
      "iteration: 2000 cost 69.8660786565 classification_rate: 0.976666666667\n",
      "iteration: 2500 cost 57.809700975 classification_rate: 0.978333333333\n",
      "iteration: 3000 cost 49.3337362053 classification_rate: 0.986666666667\n",
      "iteration: 3500 cost 43.0841805859 classification_rate: 0.985\n",
      "iteration: 4000 cost 38.2694365291 classification_rate: 0.986666666667\n",
      "iteration: 4500 cost 34.442466458 classification_rate: 0.991666666667\n",
      "iteration: 5000 cost 31.3136951748 classification_rate: 0.991666666667\n",
      "iteration: 5500 cost 28.6853292066 classification_rate: 0.996666666667\n",
      "iteration: 6000 cost 26.4159500248 classification_rate: 0.996666666667\n",
      "iteration: 6500 cost 24.4271422074 classification_rate: 0.998333333333\n",
      "iteration: 7000 cost 22.7066237679 classification_rate: 0.998333333333\n",
      "iteration: 7500 cost 21.225165194 classification_rate: 0.998333333333\n",
      "iteration: 8000 cost 19.9368176582 classification_rate: 0.998333333333\n",
      "iteration: 8500 cost 18.8034368567 classification_rate: 1.0\n",
      "iteration: 9000 cost 17.7950457999 classification_rate: 1.0\n",
      "iteration: 9500 cost 16.8889044644 classification_rate: 1.0\n"
     ]
    },
    {
     "data": {
      "image/png": "[encoded data removed]",
      "text/plain": [
       "<matplotlib.figure.Figure at 0x7f05d6b8ddd8>"
      ]
     },
     "metadata": {},
     "output_type": "display_data"
    },
    {
     "name": "stdout",
     "output_type": "stream",
     "text": [
      "Classification rate of test data is :  0.977375565611\n",
      "\n",
      "*** Profile printout saved to text file 'timings.txt'. \n"
     ]
    }
   ],
   "source": [
    "%lprun -T timings.txt -f main main()"
   ]
  },
  {
   "cell_type": "code",
   "execution_count": 67,
   "metadata": {},
   "outputs": [
    {
     "name": "stdout",
     "output_type": "stream",
     "text": [
      "softmax (array(float64, 2d, C),)\n",
      "--------------------------------------------------------------------------------\n",
      "# File: <ipython-input-63-a876382ab655>\n",
      "# --- LINE 16 --- \n",
      "# label 0\n",
      "#   del $0.1\n",
      "#   del Z\n",
      "#   del $0.2\n",
      "#   del $0.4\n",
      "#   del $const0.9\n",
      "#   del $const0.11\n",
      "#   del $0.7\n",
      "#   del Z.1\n",
      "#   del $0.12\n",
      "#   del $0.13\n",
      "\n",
      "@jit\n",
      "\n",
      "# --- LINE 17 --- \n",
      "\n",
      "def softmax(Z):\n",
      "\n",
      "    # --- LINE 18 --- \n",
      "    #   Z = arg(0, name=Z)  :: pyobject\n",
      "    #   $0.1 = global(np: <module 'numpy' from '/home/azeem/.local/lib/python3.5/site-packages/numpy/__init__.py'>)  :: pyobject\n",
      "    #   $0.2 = getattr(attr=exp, value=$0.1)  :: pyobject\n",
      "    #   $0.4 = call $0.2(Z, vararg=None, func=$0.2, kws=[], args=[Var(Z, <ipython-input-63-a876382ab655> (18))])  :: pyobject\n",
      "    #   Z.1 = $0.4  :: pyobject\n",
      "\n",
      "    Z = np.exp(Z)\n",
      "\n",
      "    # --- LINE 19 --- \n",
      "    #   $0.7 = getattr(attr=sum, value=Z.1)  :: pyobject\n",
      "    #   $const0.9 = const(int, 1)  :: pyobject\n",
      "    #   $const0.11 = const(bool, True)  :: pyobject\n",
      "    #   $0.12 = call $0.7(vararg=None, func=$0.7, kws=[('axis', Var($const0.9, <ipython-input-63-a876382ab655> (19))), ('keepdims', Var($const0.11, <ipython-input-63-a876382ab655> (19)))], args=[])  :: pyobject\n",
      "    #   $0.13 = Z.1 / $0.12  :: pyobject\n",
      "    #   $0.14 = cast(value=$0.13)  :: pyobject\n",
      "    #   return $0.14\n",
      "\n",
      "    return Z/Z.sum(axis =1 ,keepdims=True)\n",
      "\n",
      "\n",
      "================================================================================\n"
     ]
    }
   ],
   "source": [
    "softmax.inspect_types()"
   ]
  },
  {
   "cell_type": "code",
   "execution_count": 29,
   "metadata": {},
   "outputs": [],
   "source": [
    "#if __name__ ==\"__main__\":\n",
    "   # main()\n",
    "    "
   ]
  }
 ],
 "metadata": {
  "kernelspec": {
   "display_name": "Python 3",
   "language": "python",
   "name": "python3"
  },
  "language_info": {
   "codemirror_mode": {
    "name": "ipython",
    "version": 3
   },
   "file_extension": ".py",
   "mimetype": "text/x-python",
   "name": "python",
   "nbconvert_exporter": "python",
   "pygments_lexer": "ipython3",
   "version": "3.5.2"
  }
 },
 "nbformat": 4,
 "nbformat_minor": 2
}
