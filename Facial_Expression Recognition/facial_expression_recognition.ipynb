{
 "cells": [
  {
   "cell_type": "code",
   "execution_count": 121,
   "metadata": {},
   "outputs": [],
   "source": [
    "import numpy as np\n",
    "import matplotlib.pyplot as plt \n",
    "import os\n",
    "import pandas\n",
    "from functions import getbinary\n",
    "from sklearn.utils import shuffle"
   ]
  },
  {
   "cell_type": "code",
   "execution_count": 122,
   "metadata": {
    "collapsed": true
   },
   "outputs": [],
   "source": [
    "X,Y =getbinary() #we extract binary data from the complete dataset using the function getbinary "
   ]
  },
  {
   "cell_type": "markdown",
   "metadata": {},
   "source": [
    "We will now calculate the total amount of data sets we have for calss 1 and class 0 "
   ]
  },
  {
   "cell_type": "code",
   "execution_count": 123,
   "metadata": {},
   "outputs": [
    {
     "data": {
      "text/plain": [
       "547"
      ]
     },
     "execution_count": 123,
     "metadata": {},
     "output_type": "execute_result"
    }
   ],
   "source": [
    "Y=Y.reshape(Y.shape[0],1)\n",
    "count1 = np.count_nonzero(Y)\n",
    "count1 # This means we have only 547 samples of class 1 and 4953 samples of class 0 "
   ]
  },
  {
   "cell_type": "markdown",
   "metadata": {},
   "source": [
    "This creates a class imbalance problem and we have to address that by repeating the copies of the class 1 data set atleast 9 folds of the current dataset  "
   ]
  },
  {
   "cell_type": "code",
   "execution_count": 124,
   "metadata": {},
   "outputs": [
    {
     "data": {
      "text/plain": [
       "(9876, 1)"
      ]
     },
     "execution_count": 124,
     "metadata": {},
     "output_type": "execute_result"
    }
   ],
   "source": [
    "#Solving class imbalance \n",
    "X_class1 =[]\n",
    "for i in range(0,Y.shape[0]):\n",
    "    temp = Y[i]\n",
    "    if temp==1:\n",
    "        X_class1.append(X[i,:])\n",
    "\n",
    "    \n",
    "X_class1=np.repeat(X_class1,8,axis=0) # Repeats ndarray 8 times and stacks it vertically along rows \n",
    "#So we now are going to add 4376 additional elements in X matrix and subsequently we need to add similar elements in Y \n",
    "\n",
    "X = np.vstack((X,X_class1))\n",
    "Y_class1 = np.ones((X_class1.shape[0],1))\n",
    "Y = np.vstack([Y,Y_class1])\n",
    "\n",
    "Y.shape"
   ]
  },
  {
   "cell_type": "markdown",
   "metadata": {},
   "source": [
    "Now we have 4923 samples of class 1 and 4953 samples of class 0 , so we have sorted the class imbalance problem \n",
    "WE will now shuffle the data set and create a test set of 1000 data sets and rest will be train "
   ]
  },
  {
   "cell_type": "code",
   "execution_count": 125,
   "metadata": {},
   "outputs": [
    {
     "data": {
      "text/plain": [
       "(8876, 2304)"
      ]
     },
     "execution_count": 125,
     "metadata": {},
     "output_type": "execute_result"
    }
   ],
   "source": [
    "X,Y = shuffle(X,Y)\n",
    "X_test,Y_test = X[-1000:,:],Y[-1000:,:]\n",
    "X,Y=X[:-1000,:],Y[:-1000,:]\n",
    "X.shape"
   ]
  },
  {
   "cell_type": "code",
   "execution_count": 152,
   "metadata": {
    "collapsed": true
   },
   "outputs": [],
   "source": [
    "def sigmoid(Z):\n",
    "    Z =np.exp(-Z)\n",
    "    return 1/(1+Z)\n",
    "def forward(X,W):\n",
    "    out =sigmoid(X.dot(W))\n",
    "    return out\n",
    "def cross_entropy(T,Y):\n",
    "    return -(T*np.log(Y)+(1-T)*np.log(1-Y)).sum()"
   ]
  },
  {
   "cell_type": "code",
   "execution_count": 127,
   "metadata": {},
   "outputs": [
    {
     "data": {
      "text/plain": [
       "(8876, 2305)"
      ]
     },
     "execution_count": 127,
     "metadata": {},
     "output_type": "execute_result"
    }
   ],
   "source": [
    "bias = np.ones((X.shape[0],1))\n",
    "X = np.hstack([bias,X])\n",
    "X.shape"
   ]
  },
  {
   "cell_type": "code",
   "execution_count": 157,
   "metadata": {},
   "outputs": [
    {
     "data": {
      "image/png": "[encoded data removed]",
      "text/plain": [
       "<matplotlib.figure.Figure at 0x7f0ffc42f080>"
      ]
     },
     "metadata": {},
     "output_type": "display_data"
    }
   ],
   "source": [
    "N,D = X.shape\n",
    "W=(np.random.randn(D)/np.sqrt(D)).reshape(D,1)\n",
    "#Running gradient descent now \n",
    "lr = 10e-7\n",
    "reg = 0*10e-22\n",
    "cost=[]\n",
    "for i in range(0,1000):\n",
    "    y_pred = forward(X,W)\n",
    "    cost.append(cross_entropy(Y,y_pred))\n",
    "    W = W-lr*(X.T.dot(y_pred-Y)+reg*W)\n",
    "\n",
    "plt.plot(cost)\n",
    "plt.show()\n"
   ]
  }
 ],
 "metadata": {
  "kernelspec": {
   "display_name": "Python 3",
   "language": "python",
   "name": "python3"
  },
  "language_info": {
   "codemirror_mode": {
    "name": "ipython",
    "version": 3
   },
   "file_extension": ".py",
   "mimetype": "text/x-python",
   "name": "python",
   "nbconvert_exporter": "python",
   "pygments_lexer": "ipython3",
   "version": "3.5.2"
  }
 },
 "nbformat": 4,
 "nbformat_minor": 2
}
